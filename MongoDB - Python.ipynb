{
 "cells": [
  {
   "cell_type": "code",
   "execution_count": 3,
   "id": "c4cc485f",
   "metadata": {},
   "outputs": [],
   "source": [
    "import pymongo \n",
    "from pymongo import MongoClient #MongoClient sınıfımızı import ediyoruz."
   ]
  },
  {
   "cell_type": "code",
   "execution_count": null,
   "id": "d2396736",
   "metadata": {},
   "outputs": [],
   "source": [
    "# pip install pymongo - windows"
   ]
  },
  {
   "cell_type": "code",
   "execution_count": null,
   "id": "b37ed737",
   "metadata": {},
   "outputs": [],
   "source": [
    "# pip install pymongo - Linux "
   ]
  },
  {
   "cell_type": "code",
   "execution_count": null,
   "id": "d9201db3",
   "metadata": {},
   "outputs": [],
   "source": [
    "# Aşağıda KULLANICIADI ve ŞİFRE bölümlerini < > işaretlerini de silerek kendi\n",
    "# bilgilerinizle doldurunuz."
   ]
  },
  {
   "cell_type": "code",
   "execution_count": 4,
   "id": "8861085c",
   "metadata": {},
   "outputs": [],
   "source": [
    "myclient = MongoClient(\"mongodb+srv://<KULLANICIADI>:<ŞİFRE>@cluster1.dumyfbl.mongodb.net/?retryWrites=true&w=majority\") #python ile bağlama\n",
    "db = myclient[\"mydatabase\"] #Veritabanı oluşturma\n",
    "new_collection = db[\"customers\"] #collection oluşturma veya bağlanma\n"
   ]
  },
  {
   "cell_type": "code",
   "execution_count": null,
   "id": "0df63bb0",
   "metadata": {},
   "outputs": [],
   "source": [
    "################################################"
   ]
  },
  {
   "cell_type": "code",
   "execution_count": null,
   "id": "2da5ef8f",
   "metadata": {},
   "outputs": [],
   "source": [
    "################################################"
   ]
  },
  {
   "cell_type": "code",
   "execution_count": null,
   "id": "12821db0",
   "metadata": {},
   "outputs": [],
   "source": [
    "# Insert Sorguları"
   ]
  },
  {
   "cell_type": "code",
   "execution_count": null,
   "id": "f7aa78e8",
   "metadata": {},
   "outputs": [],
   "source": [
    "# insert_one()"
   ]
  },
  {
   "cell_type": "code",
   "execution_count": 5,
   "id": "0be9909e",
   "metadata": {},
   "outputs": [
    {
     "name": "stdout",
     "output_type": "stream",
     "text": [
      "63d7ced243737eb5fa87bfa4\n"
     ]
    }
   ],
   "source": [
    "new_data = {\"name\":\"Barış\",\"City\":\"Karabük\"}\n",
    "\n",
    "x = new_collection.insert_one(new_data)\n",
    "\n",
    "print(x.inserted_id)"
   ]
  },
  {
   "cell_type": "code",
   "execution_count": null,
   "id": "0fcfd1fa",
   "metadata": {},
   "outputs": [],
   "source": [
    "# insert_many()"
   ]
  },
  {
   "cell_type": "code",
   "execution_count": 6,
   "id": "6838e7c0",
   "metadata": {},
   "outputs": [],
   "source": [
    "mylist = [\n",
    "  { \"name\": \"Amy\", \"address\": \"Apple st 652\"},\n",
    "  { \"name\": \"Hannah\", \"address\": \"Mountain 21\"},\n",
    "  { \"name\": \"Michael\", \"address\": \"Valley 345\"},\n",
    "  { \"name\": \"Sandy\", \"address\": \"Ocean blvd 2\"},\n",
    "  { \"name\": \"Betty\", \"address\": \"Green Grass 1\"},\n",
    "  { \"name\": \"Richard\", \"address\": \"Sky st 331\"},\n",
    "  { \"name\": \"Susan\", \"address\": \"One way 98\"},\n",
    "  { \"name\": \"Vicky\", \"address\": \"Yellow Garden 2\"},\n",
    "  { \"name\": \"Ben\", \"address\": \"Park Lane 38\"},\n",
    "  { \"name\": \"William\", \"address\": \"Central st 954\"},\n",
    "  { \"name\": \"Chuck\", \"address\": \"Main Road 989\"},\n",
    "  { \"name\": \"Viola\", \"address\": \"Sideway 1633\"}\n",
    "]"
   ]
  },
  {
   "cell_type": "code",
   "execution_count": 19,
   "id": "41a481ee",
   "metadata": {},
   "outputs": [
    {
     "data": {
      "text/plain": [
       "<pymongo.results.InsertManyResult at 0x7fa3f4a52d70>"
      ]
     },
     "execution_count": 19,
     "metadata": {},
     "output_type": "execute_result"
    }
   ],
   "source": [
    "new_collection.insert_many(mylist)"
   ]
  },
  {
   "cell_type": "code",
   "execution_count": 20,
   "id": "c30dd820",
   "metadata": {},
   "outputs": [
    {
     "data": {
      "text/plain": [
       "<pymongo.results.InsertManyResult at 0x7fa3f4a50fd0>"
      ]
     },
     "execution_count": 20,
     "metadata": {},
     "output_type": "execute_result"
    }
   ],
   "source": [
    "# ID ye göre ekleme yapma \n",
    "new_list_with_id = [\n",
    "    {\"_id\":1, \"name\": \"Erkam\", \"address\": \"Karabük\"},\n",
    "    {\"_id\":2, \"name\": \"Ensar\", \"address\": \"İstanbul\"},\n",
    "    {\"_id\":3, \"name\": \"Duygu\", \"address\": \"Ankara\"},\n",
    "    {\"_id\":4, \"name\": \"Enes\", \"address\": \"İstanbul\"},\n",
    "    {\"_id\":5, \"name\": \"Ulaş\", \"address\": \"Sakarya\"},\n",
    "    {\"_id\":6, \"name\": \"Onur\", \"address\": \"Isparta\"},\n",
    "    {\"_id\":7, \"name\": \"Çelik\", \"address\": \"Bolu\"},\n",
    "    \n",
    "]\n",
    "new_collection.insert_many(new_list_with_id)"
   ]
  },
  {
   "cell_type": "code",
   "execution_count": null,
   "id": "64e63942",
   "metadata": {},
   "outputs": [],
   "source": [
    "################################################"
   ]
  },
  {
   "cell_type": "code",
   "execution_count": null,
   "id": "09f7882f",
   "metadata": {},
   "outputs": [],
   "source": [
    "################################################"
   ]
  },
  {
   "cell_type": "code",
   "execution_count": null,
   "id": "1c55708a",
   "metadata": {},
   "outputs": [],
   "source": [
    "# Find Sorguları"
   ]
  },
  {
   "cell_type": "code",
   "execution_count": null,
   "id": "6a4d23b5",
   "metadata": {},
   "outputs": [],
   "source": [
    "# find_one()"
   ]
  },
  {
   "cell_type": "code",
   "execution_count": 7,
   "id": "a536ede4",
   "metadata": {},
   "outputs": [
    {
     "name": "stdout",
     "output_type": "stream",
     "text": [
      "{'_id': ObjectId('63d79904c5c7052da8b7bc6e'), 'name': 'Amy', 'address': 'Apple st 652'}\n"
     ]
    }
   ],
   "source": [
    "# Sadece ilk kayıdı geri döndürür\n",
    "x = new_collection.find_one()\n",
    "print(x)"
   ]
  },
  {
   "cell_type": "code",
   "execution_count": null,
   "id": "aa5d8dca",
   "metadata": {},
   "outputs": [],
   "source": [
    "# find()"
   ]
  },
  {
   "cell_type": "code",
   "execution_count": 8,
   "id": "71a0f3cc",
   "metadata": {},
   "outputs": [
    {
     "name": "stdout",
     "output_type": "stream",
     "text": [
      "{'_id': ObjectId('63d79904c5c7052da8b7bc6e'), 'name': 'Amy', 'address': 'Apple st 652'}\n",
      "{'_id': ObjectId('63d79904c5c7052da8b7bc6f'), 'name': 'Hannah', 'address': 'Mountain 21'}\n",
      "{'_id': ObjectId('63d79904c5c7052da8b7bc70'), 'name': 'Michael', 'address': 'Valley 345'}\n",
      "{'_id': ObjectId('63d79904c5c7052da8b7bc71'), 'name': 'Sandy', 'address': 'Ocean blvd 2'}\n",
      "{'_id': ObjectId('63d79904c5c7052da8b7bc72'), 'name': 'Betty', 'address': 'Green Grass 1'}\n",
      "{'_id': ObjectId('63d79904c5c7052da8b7bc73'), 'name': 'Richard', 'address': 'Sky st 331'}\n",
      "{'_id': ObjectId('63d79904c5c7052da8b7bc74'), 'name': 'Susan', 'address': 'One way 98'}\n",
      "{'_id': ObjectId('63d79904c5c7052da8b7bc75'), 'name': 'Vicky', 'address': 'Yellow Garden 2'}\n",
      "{'_id': ObjectId('63d79904c5c7052da8b7bc76'), 'name': 'Ben', 'address': 'Park Lane 38'}\n",
      "{'_id': ObjectId('63d79904c5c7052da8b7bc77'), 'name': 'William', 'address': 'Central st 954'}\n",
      "{'_id': ObjectId('63d79904c5c7052da8b7bc78'), 'name': 'Chuck', 'address': 'Main Road 989'}\n",
      "{'_id': ObjectId('63d79904c5c7052da8b7bc79'), 'name': 'Viola', 'address': 'Sideway 1633'}\n",
      "{'_id': 1, 'name': 'Erkam', 'address': 'Karabük'}\n",
      "{'_id': 2, 'name': 'Ensar', 'address': 'İstanbul'}\n",
      "{'_id': 3, 'name': 'Duygu', 'address': 'Ankara'}\n",
      "{'_id': 4, 'name': 'Enes', 'address': 'İstanbul'}\n",
      "{'_id': 5, 'name': 'Ulaş', 'address': 'Sakarya'}\n",
      "{'_id': 6, 'name': 'Onur', 'address': 'Isparta'}\n",
      "{'_id': 7, 'name': 'Çelik', 'address': 'Bolu'}\n",
      "{'_id': ObjectId('63d7ced243737eb5fa87bfa4'), 'name': 'Barış', 'City': 'Karabük'}\n"
     ]
    }
   ],
   "source": [
    "# Tüm kayıtları geri döndürür\n",
    "for x in new_collection.find():\n",
    "  print(x) "
   ]
  },
  {
   "cell_type": "code",
   "execution_count": 27,
   "id": "0d1a8303",
   "metadata": {},
   "outputs": [
    {
     "name": "stdout",
     "output_type": "stream",
     "text": [
      "{'name': 'Amy', 'address': 'Apple st 652'}\n",
      "{'name': 'Hannah', 'address': 'Mountain 21'}\n",
      "{'name': 'Michael', 'address': 'Valley 345'}\n",
      "{'name': 'Sandy', 'address': 'Ocean blvd 2'}\n",
      "{'name': 'Betty', 'address': 'Green Grass 1'}\n",
      "{'name': 'Richard', 'address': 'Sky st 331'}\n",
      "{'name': 'Susan', 'address': 'One way 98'}\n",
      "{'name': 'Vicky', 'address': 'Yellow Garden 2'}\n",
      "{'name': 'Ben', 'address': 'Park Lane 38'}\n",
      "{'name': 'William', 'address': 'Central st 954'}\n",
      "{'name': 'Chuck', 'address': 'Main Road 989'}\n",
      "{'name': 'Viola', 'address': 'Sideway 1633'}\n",
      "{'name': 'Erkam', 'address': 'Karabük'}\n",
      "{'name': 'Ensar', 'address': 'İstanbul'}\n",
      "{'name': 'Duygu', 'address': 'Ankara'}\n",
      "{'name': 'Enes', 'address': 'İstanbul'}\n",
      "{'name': 'Ulaş', 'address': 'Sakarya'}\n",
      "{'name': 'Onur', 'address': 'Isparta'}\n",
      "{'name': 'Çelik', 'address': 'Bolu'}\n"
     ]
    }
   ],
   "source": [
    "# id yi getirme ismi ve adresi getir\n",
    "for x in new_collection.find({},{ \"_id\": 0, \"name\": 1, \"address\":1}):\n",
    "  print(x) "
   ]
  },
  {
   "cell_type": "code",
   "execution_count": 28,
   "id": "ccf7c18b",
   "metadata": {},
   "outputs": [
    {
     "name": "stdout",
     "output_type": "stream",
     "text": [
      "{'name': 'Amy'}\n",
      "{'name': 'Hannah'}\n",
      "{'name': 'Michael'}\n",
      "{'name': 'Sandy'}\n",
      "{'name': 'Betty'}\n",
      "{'name': 'Richard'}\n",
      "{'name': 'Susan'}\n",
      "{'name': 'Vicky'}\n",
      "{'name': 'Ben'}\n",
      "{'name': 'William'}\n",
      "{'name': 'Chuck'}\n",
      "{'name': 'Viola'}\n",
      "{'name': 'Erkam'}\n",
      "{'name': 'Ensar'}\n",
      "{'name': 'Duygu'}\n",
      "{'name': 'Enes'}\n",
      "{'name': 'Ulaş'}\n",
      "{'name': 'Onur'}\n",
      "{'name': 'Çelik'}\n"
     ]
    }
   ],
   "source": [
    "# Sadece isimleri getir\n",
    "for x in new_collection.find({},{ \"_id\": 0, \"name\": 1}):\n",
    "  print(x) "
   ]
  },
  {
   "cell_type": "code",
   "execution_count": null,
   "id": "7446f9f2",
   "metadata": {},
   "outputs": [],
   "source": [
    "################################################"
   ]
  },
  {
   "cell_type": "code",
   "execution_count": null,
   "id": "d21a9dd2",
   "metadata": {},
   "outputs": [],
   "source": [
    "################################################"
   ]
  },
  {
   "cell_type": "code",
   "execution_count": 1,
   "id": "a339f93e",
   "metadata": {},
   "outputs": [],
   "source": [
    "# QUERY SORGULARI"
   ]
  },
  {
   "cell_type": "code",
   "execution_count": 9,
   "id": "6eda10c3",
   "metadata": {},
   "outputs": [
    {
     "name": "stdout",
     "output_type": "stream",
     "text": [
      "{'_id': 2, 'name': 'Ensar', 'address': 'İstanbul'}\n",
      "{'_id': 4, 'name': 'Enes', 'address': 'İstanbul'}\n"
     ]
    }
   ],
   "source": [
    "# Adresi İstanbul olanları getir\n",
    "myquery = { \"address\": \"İstanbul\" }\n",
    "mydoc = new_collection.find(myquery)\n",
    "\n",
    "for x in mydoc:\n",
    "  print(x) "
   ]
  },
  {
   "cell_type": "code",
   "execution_count": 10,
   "id": "ce43dd5d",
   "metadata": {},
   "outputs": [
    {
     "name": "stdout",
     "output_type": "stream",
     "text": [
      "{'_id': ObjectId('63d79904c5c7052da8b7bc70'), 'name': 'Michael', 'address': 'Valley 345'}\n",
      "{'_id': ObjectId('63d79904c5c7052da8b7bc73'), 'name': 'Richard', 'address': 'Sky st 331'}\n",
      "{'_id': ObjectId('63d79904c5c7052da8b7bc75'), 'name': 'Vicky', 'address': 'Yellow Garden 2'}\n",
      "{'_id': ObjectId('63d79904c5c7052da8b7bc79'), 'name': 'Viola', 'address': 'Sideway 1633'}\n",
      "{'_id': 2, 'name': 'Ensar', 'address': 'İstanbul'}\n",
      "{'_id': 4, 'name': 'Enes', 'address': 'İstanbul'}\n",
      "{'_id': 5, 'name': 'Ulaş', 'address': 'Sakarya'}\n"
     ]
    }
   ],
   "source": [
    "myquery = { \"address\": { \"$gt\": \"S\" } }\n",
    "mydoc = new_collection.find(myquery)\n",
    "for x in mydoc:\n",
    "  print(x) "
   ]
  },
  {
   "cell_type": "code",
   "execution_count": 26,
   "id": "251f3e59",
   "metadata": {},
   "outputs": [
    {
     "data": {
      "text/plain": [
       "<pymongo.results.InsertManyResult at 0x7f23655ce890>"
      ]
     },
     "execution_count": 26,
     "metadata": {},
     "output_type": "execute_result"
    }
   ],
   "source": [
    "# Daha detaylı sorgular için not ortalamalarının tutulduğu bir collection açalım.\n",
    "# ve içerisine liste şeklinde notlarımızı yükleyelim\n",
    "mydb = db[\"notlar\"]\n",
    "notlar = [{\"Adı\":\"Ali\",\"Ortalama\":63},\n",
    "          {\"Adı\":\"Ayşe\",\"Ortalama\":82},\n",
    "          {\"Adı\":\"Mehmet\",\"Ortalama\":18},\n",
    "          {\"Adı\":\"Duygu\",\"Ortalama\":41},\n",
    "          {\"Adı\":\"Buse\",\"Ortalama\":72},\n",
    "          {\"Adı\":\"Orhan\",\"Ortalama\":26},\n",
    "          {\"Adı\":\"Kerim\",\"Ortalama\":65},\n",
    "          {\"Adı\":\"Mustafa\",\"Ortalama\":23},\n",
    "          {\"Adı\":\"Şule\",\"Ortalama\":75},\n",
    "          {\"Adı\":\"Baran\",\"Ortalama\":91},\n",
    "          {\"Adı\":\"Kaan\",\"Ortalama\":74},\n",
    "          {\"Adı\":\"Osman\",\"Ortalama\":62},\n",
    "          {\"Adı\":\"Banu\",\"Ortalama\":84},\n",
    "          {\"Adı\":\"Burhan\",\"Ortalama\":36},\n",
    "          {\"Adı\":\"Oğuz\",\"Ortalama\":63},\n",
    "          {\"Adı\":\"Ali\",\"Ortalama\":75}\n",
    "         ]\n",
    "mydb.insert_many(notlar)"
   ]
  },
  {
   "cell_type": "code",
   "execution_count": 27,
   "id": "18dd854b",
   "metadata": {},
   "outputs": [
    {
     "name": "stdout",
     "output_type": "stream",
     "text": [
      "{'_id': ObjectId('63d7dba343737eb5fa87bfb3'), 'Adı': 'Ali', 'Ortalama': 63}\n",
      "{'_id': ObjectId('63d7dba343737eb5fa87bfb4'), 'Adı': 'Ayşe', 'Ortalama': 82}\n",
      "{'_id': ObjectId('63d7dba343737eb5fa87bfb5'), 'Adı': 'Mehmet', 'Ortalama': 18}\n",
      "{'_id': ObjectId('63d7dba343737eb5fa87bfb6'), 'Adı': 'Duygu', 'Ortalama': 41}\n",
      "{'_id': ObjectId('63d7dba343737eb5fa87bfb7'), 'Adı': 'Buse', 'Ortalama': 72}\n",
      "{'_id': ObjectId('63d7dba343737eb5fa87bfb8'), 'Adı': 'Orhan', 'Ortalama': 26}\n",
      "{'_id': ObjectId('63d7dba343737eb5fa87bfb9'), 'Adı': 'Kerim', 'Ortalama': 65}\n",
      "{'_id': ObjectId('63d7dba343737eb5fa87bfba'), 'Adı': 'Mustafa', 'Ortalama': 23}\n",
      "{'_id': ObjectId('63d7dba343737eb5fa87bfbb'), 'Adı': 'Şule', 'Ortalama': 75}\n",
      "{'_id': ObjectId('63d7dba343737eb5fa87bfbc'), 'Adı': 'Baran', 'Ortalama': 91}\n",
      "{'_id': ObjectId('63d7dba343737eb5fa87bfbd'), 'Adı': 'Kaan', 'Ortalama': 74}\n",
      "{'_id': ObjectId('63d7dba343737eb5fa87bfbe'), 'Adı': 'Osman', 'Ortalama': 62}\n",
      "{'_id': ObjectId('63d7dba343737eb5fa87bfbf'), 'Adı': 'Banu', 'Ortalama': 84}\n",
      "{'_id': ObjectId('63d7dba343737eb5fa87bfc0'), 'Adı': 'Burhan', 'Ortalama': 36}\n",
      "{'_id': ObjectId('63d7dba343737eb5fa87bfc1'), 'Adı': 'Oğuz', 'Ortalama': 63}\n",
      "{'_id': ObjectId('63d7dba343737eb5fa87bfc2'), 'Adı': 'Ali', 'Ortalama': 75}\n"
     ]
    }
   ],
   "source": [
    "# kontrol\n",
    "for x in mydb.find():\n",
    "    print(x)"
   ]
  },
  {
   "cell_type": "code",
   "execution_count": 28,
   "id": "85078653",
   "metadata": {},
   "outputs": [
    {
     "name": "stdout",
     "output_type": "stream",
     "text": [
      "{'Adı': 'Ali', 'Ortalama': 63}\n",
      "{'Adı': 'Ayşe', 'Ortalama': 82}\n",
      "{'Adı': 'Mehmet', 'Ortalama': 18}\n",
      "{'Adı': 'Duygu', 'Ortalama': 41}\n",
      "{'Adı': 'Buse', 'Ortalama': 72}\n",
      "{'Adı': 'Orhan', 'Ortalama': 26}\n",
      "{'Adı': 'Kerim', 'Ortalama': 65}\n",
      "{'Adı': 'Mustafa', 'Ortalama': 23}\n",
      "{'Adı': 'Şule', 'Ortalama': 75}\n",
      "{'Adı': 'Baran', 'Ortalama': 91}\n",
      "{'Adı': 'Kaan', 'Ortalama': 74}\n",
      "{'Adı': 'Osman', 'Ortalama': 62}\n",
      "{'Adı': 'Banu', 'Ortalama': 84}\n",
      "{'Adı': 'Burhan', 'Ortalama': 36}\n",
      "{'Adı': 'Oğuz', 'Ortalama': 63}\n",
      "{'Adı': 'Ali', 'Ortalama': 75}\n"
     ]
    }
   ],
   "source": [
    "# id siz yazıyoruz\n",
    "for x in mydb.find({},{\"_id\":0}):\n",
    "    print(x)"
   ]
  },
  {
   "cell_type": "code",
   "execution_count": 20,
   "id": "2e2d6f64",
   "metadata": {},
   "outputs": [],
   "source": [
    "# $gt = greater than\n",
    "# $lt = less than\n",
    "# ORTALAMASI 50 ÜZERİ OLANLAR GEÇSİN"
   ]
  },
  {
   "cell_type": "code",
   "execution_count": 22,
   "id": "f0d824b4",
   "metadata": {},
   "outputs": [
    {
     "name": "stdout",
     "output_type": "stream",
     "text": [
      "{'Adı': 'Mehmet', 'Ortalama': 18}\n",
      "{'Adı': 'Duygu', 'Ortalama': 41}\n",
      "{'Adı': 'Orhan', 'Ortalama': 26}\n",
      "{'Adı': 'Mustafa', 'Ortalama': 23}\n",
      "{'Adı': 'Burhan', 'Ortalama': 36}\n"
     ]
    }
   ],
   "source": [
    "# DERSTEN KALANLARI ISIMLERİ VE NOTLARI\n",
    "for x in mydb.find({\"Ortalama\": { \"$lt\": 50 }},{\"_id\":0}):\n",
    "    print(x)\n"
   ]
  },
  {
   "cell_type": "code",
   "execution_count": 29,
   "id": "9187640c",
   "metadata": {},
   "outputs": [
    {
     "name": "stdout",
     "output_type": "stream",
     "text": [
      "{'Adı': 'Ali'}\n",
      "{'Adı': 'Ayşe'}\n",
      "{'Adı': 'Buse'}\n",
      "{'Adı': 'Kerim'}\n",
      "{'Adı': 'Şule'}\n",
      "{'Adı': 'Baran'}\n",
      "{'Adı': 'Kaan'}\n",
      "{'Adı': 'Osman'}\n",
      "{'Adı': 'Banu'}\n",
      "{'Adı': 'Oğuz'}\n",
      "{'Adı': 'Ali'}\n"
     ]
    }
   ],
   "source": [
    "# DERSİ GEÇENLERİN İSİMLERİ\n",
    "for x in mydb.find({\"Ortalama\": { \"$gt\": 49 }},{\"_id\":0, \"Adı\":1}):\n",
    "    print(x)"
   ]
  },
  {
   "cell_type": "code",
   "execution_count": null,
   "id": "838628fc",
   "metadata": {},
   "outputs": [],
   "source": [
    "################################################"
   ]
  },
  {
   "cell_type": "code",
   "execution_count": null,
   "id": "f6767ca8",
   "metadata": {},
   "outputs": [],
   "source": [
    "################################################"
   ]
  },
  {
   "cell_type": "code",
   "execution_count": 23,
   "id": "75e8bda2",
   "metadata": {},
   "outputs": [],
   "source": [
    "# SORT Sorguları"
   ]
  },
  {
   "cell_type": "code",
   "execution_count": 24,
   "id": "0d8b8899",
   "metadata": {},
   "outputs": [
    {
     "name": "stdout",
     "output_type": "stream",
     "text": [
      "{'Adı': 'Mehmet', 'Ortalama': 18}\n",
      "{'Adı': 'Mustafa', 'Ortalama': 23}\n",
      "{'Adı': 'Orhan', 'Ortalama': 26}\n",
      "{'Adı': 'Burhan', 'Ortalama': 36}\n",
      "{'Adı': 'Duygu', 'Ortalama': 41}\n",
      "{'Adı': 'Osman', 'Ortalama': 62}\n",
      "{'Adı': 'Ali', 'Ortalama': 63}\n",
      "{'Adı': 'Kerim', 'Ortalama': 65}\n",
      "{'Adı': 'Buse', 'Ortalama': 72}\n",
      "{'Adı': 'Kaan', 'Ortalama': 74}\n",
      "{'Adı': 'Şule', 'Ortalama': 75}\n",
      "{'Adı': 'Ayşe', 'Ortalama': 82}\n",
      "{'Adı': 'Banu', 'Ortalama': 84}\n",
      "{'Adı': 'Baran', 'Ortalama': 91}\n"
     ]
    }
   ],
   "source": [
    "# Ortalamalar için ARTAN YÖN\n",
    "for x in mydb.find({},{\"_id\":0}).sort(\"Ortalama\"):\n",
    "    print(x)"
   ]
  },
  {
   "cell_type": "code",
   "execution_count": 25,
   "id": "21faaa41",
   "metadata": {},
   "outputs": [
    {
     "name": "stdout",
     "output_type": "stream",
     "text": [
      "{'Adı': 'Baran', 'Ortalama': 91}\n",
      "{'Adı': 'Banu', 'Ortalama': 84}\n",
      "{'Adı': 'Ayşe', 'Ortalama': 82}\n",
      "{'Adı': 'Şule', 'Ortalama': 75}\n",
      "{'Adı': 'Kaan', 'Ortalama': 74}\n",
      "{'Adı': 'Buse', 'Ortalama': 72}\n",
      "{'Adı': 'Kerim', 'Ortalama': 65}\n",
      "{'Adı': 'Ali', 'Ortalama': 63}\n",
      "{'Adı': 'Osman', 'Ortalama': 62}\n",
      "{'Adı': 'Duygu', 'Ortalama': 41}\n",
      "{'Adı': 'Burhan', 'Ortalama': 36}\n",
      "{'Adı': 'Orhan', 'Ortalama': 26}\n",
      "{'Adı': 'Mustafa', 'Ortalama': 23}\n",
      "{'Adı': 'Mehmet', 'Ortalama': 18}\n"
     ]
    }
   ],
   "source": [
    "# Ortalamalar için AZALAN YÖN\n",
    "for x in mydb.find({},{\"_id\":0}).sort(\"Ortalama\", -1):\n",
    "    print(x)"
   ]
  },
  {
   "cell_type": "code",
   "execution_count": null,
   "id": "d79a7cf3",
   "metadata": {},
   "outputs": [],
   "source": [
    "################################################"
   ]
  },
  {
   "cell_type": "code",
   "execution_count": null,
   "id": "e56edcb4",
   "metadata": {},
   "outputs": [],
   "source": [
    "################################################"
   ]
  },
  {
   "cell_type": "code",
   "execution_count": 30,
   "id": "c1221eb5",
   "metadata": {},
   "outputs": [],
   "source": [
    "# and - or"
   ]
  },
  {
   "cell_type": "code",
   "execution_count": 32,
   "id": "dc156581",
   "metadata": {},
   "outputs": [
    {
     "name": "stdout",
     "output_type": "stream",
     "text": [
      "{'Adı': 'Ali', 'Ortalama': 63}\n",
      "{'Adı': 'Oğuz', 'Ortalama': 63}\n"
     ]
    }
   ],
   "source": [
    "# ORTALAMASI 63 olanları getir\n",
    "for x in mydb.find({\"Ortalama\":63},{\"_id\":0}):\n",
    "    print(x)"
   ]
  },
  {
   "cell_type": "code",
   "execution_count": 35,
   "id": "fcd857fa",
   "metadata": {},
   "outputs": [
    {
     "name": "stdout",
     "output_type": "stream",
     "text": [
      "{'Adı': 'Ali', 'Ortalama': 63}\n"
     ]
    }
   ],
   "source": [
    "# and\n",
    "# ORTALAMASI 63 ve ADI ALİ olanları getir\n",
    "for x in mydb.find({\"$and\":[{\"Ortalama\":63},{\"Adı\":\"Ali\"}]},{\"_id\":0}):\n",
    "    print(x)"
   ]
  },
  {
   "cell_type": "code",
   "execution_count": 36,
   "id": "10ee2011",
   "metadata": {},
   "outputs": [
    {
     "name": "stdout",
     "output_type": "stream",
     "text": [
      "{'Adı': 'Ali', 'Ortalama': 63}\n",
      "{'Adı': 'Oğuz', 'Ortalama': 63}\n",
      "{'Adı': 'Ali', 'Ortalama': 75}\n"
     ]
    }
   ],
   "source": [
    "# or\n",
    "# ORTALAMASI 63 yada ADI ALİ olanları getir\n",
    "for x in mydb.find({\"$or\":[{\"Ortalama\":63},{\"Adı\":\"Ali\"}]},{\"_id\":0}):\n",
    "    print(x)"
   ]
  },
  {
   "cell_type": "code",
   "execution_count": null,
   "id": "186e0486",
   "metadata": {},
   "outputs": [],
   "source": [
    "################################################"
   ]
  },
  {
   "cell_type": "code",
   "execution_count": null,
   "id": "17bb20c6",
   "metadata": {},
   "outputs": [],
   "source": [
    "################################################"
   ]
  },
  {
   "cell_type": "code",
   "execution_count": null,
   "id": "147d6f4c",
   "metadata": {},
   "outputs": [],
   "source": [
    "# UPDATE Sorguları"
   ]
  },
  {
   "cell_type": "code",
   "execution_count": 38,
   "id": "9ea6126b",
   "metadata": {},
   "outputs": [],
   "source": [
    "\n",
    "\"\"\"\n",
    "myclient = pymongo.MongoClient(\"mongodb://localhost:27017/\")\n",
    "mydb = myclient[\"mydatabase\"]\n",
    "mycol = mydb[\"customers\"]\n",
    "\n",
    "myquery = { \"address\": \"Valley 345\" }\n",
    "newvalues = { \"$set\": { \"address\": \"Canyon 123\" } }\n",
    "\n",
    "mycol.update_one(myquery, newvalues)\n",
    "\n",
    "#print \"customers\" after the update:\n",
    "for x in mycol.find():\n",
    "  print(x) \n",
    "\"\"\""
   ]
  },
  {
   "cell_type": "code",
   "execution_count": null,
   "id": "1b90dc46",
   "metadata": {},
   "outputs": [],
   "source": [
    "#update_one"
   ]
  },
  {
   "cell_type": "code",
   "execution_count": 39,
   "id": "ab1a5c64",
   "metadata": {},
   "outputs": [
    {
     "data": {
      "text/plain": [
       "{'_id': ObjectId('63d7dba343737eb5fa87bfbf'), 'Adı': 'Banu', 'Ortalama': 84}"
      ]
     },
     "execution_count": 39,
     "metadata": {},
     "output_type": "execute_result"
    }
   ],
   "source": [
    "# Ortalaması 84 olanı bulalım\n",
    "mydb.find_one({\"Ortalama\":84})\n"
   ]
  },
  {
   "cell_type": "code",
   "execution_count": 40,
   "id": "9ed62177",
   "metadata": {},
   "outputs": [
    {
     "data": {
      "text/plain": [
       "{'_id': ObjectId('63d7dba343737eb5fa87bfbf'), 'Adı': 'Banu', 'Ortalama': 100}"
      ]
     },
     "execution_count": 40,
     "metadata": {},
     "output_type": "execute_result"
    }
   ],
   "source": [
    "# Banu Ortalama 84 geldi. şimdi bunun notunu 100 ile güncelleyelim.\n",
    "my_query = {\"Ortalama\":84}\n",
    "new_values = {\"$set\":{\"Ortalama\":100}}\n",
    "mydb.update_one(my_query, new_values)\n",
    "# 100 olarak değiştirdik kontrol edelim\n",
    "mydb.find_one({\"Ortalama\":100})\n"
   ]
  },
  {
   "cell_type": "code",
   "execution_count": null,
   "id": "37ef3499",
   "metadata": {},
   "outputs": [],
   "source": [
    "#update_many"
   ]
  },
  {
   "cell_type": "code",
   "execution_count": 42,
   "id": "4a9ca7dc",
   "metadata": {},
   "outputs": [
    {
     "name": "stdout",
     "output_type": "stream",
     "text": [
      "{'Adı': 'Ali', 'Ortalama': 63}\n",
      "{'Adı': 'Ayşe', 'Ortalama': 82}\n",
      "{'Adı': 'Mehmet', 'Ortalama': 50}\n",
      "{'Adı': 'Duygu', 'Ortalama': 50}\n",
      "{'Adı': 'Buse', 'Ortalama': 72}\n",
      "{'Adı': 'Orhan', 'Ortalama': 50}\n",
      "{'Adı': 'Kerim', 'Ortalama': 65}\n",
      "{'Adı': 'Mustafa', 'Ortalama': 50}\n",
      "{'Adı': 'Şule', 'Ortalama': 75}\n",
      "{'Adı': 'Baran', 'Ortalama': 91}\n",
      "{'Adı': 'Kaan', 'Ortalama': 74}\n",
      "{'Adı': 'Osman', 'Ortalama': 62}\n",
      "{'Adı': 'Banu', 'Ortalama': 100}\n",
      "{'Adı': 'Burhan', 'Ortalama': 50}\n",
      "{'Adı': 'Oğuz', 'Ortalama': 63}\n",
      "{'Adı': 'Ali', 'Ortalama': 75}\n"
     ]
    }
   ],
   "source": [
    "# AF GELDİ ! ORTALAMASI 50 den AZ OLAN HERKESİ GEÇİRİYORUZ\n",
    "my_query = {\"Ortalama\":{\"$lt\":50}}\n",
    "new_values = {\"$set\":{\"Ortalama\":50}}\n",
    "mydb.update_many(my_query, new_values)\n",
    "for x in mydb.find({},{\"_id\":0}):\n",
    "    print(x)"
   ]
  },
  {
   "cell_type": "code",
   "execution_count": null,
   "id": "e8da38b5",
   "metadata": {},
   "outputs": [],
   "source": [
    "################################################"
   ]
  },
  {
   "cell_type": "code",
   "execution_count": null,
   "id": "97b9affe",
   "metadata": {},
   "outputs": [],
   "source": [
    "################################################"
   ]
  },
  {
   "cell_type": "code",
   "execution_count": 43,
   "id": "9da059bb",
   "metadata": {},
   "outputs": [],
   "source": [
    "# Limit Sorguları"
   ]
  },
  {
   "cell_type": "code",
   "execution_count": 44,
   "id": "e0ec5906",
   "metadata": {},
   "outputs": [
    {
     "name": "stdout",
     "output_type": "stream",
     "text": [
      "{'_id': ObjectId('63d7dba343737eb5fa87bfb3'), 'Adı': 'Ali', 'Ortalama': 63}\n",
      "{'_id': ObjectId('63d7dba343737eb5fa87bfb4'), 'Adı': 'Ayşe', 'Ortalama': 82}\n",
      "{'_id': ObjectId('63d7dba343737eb5fa87bfb5'), 'Adı': 'Mehmet', 'Ortalama': 50}\n",
      "{'_id': ObjectId('63d7dba343737eb5fa87bfb6'), 'Adı': 'Duygu', 'Ortalama': 50}\n",
      "{'_id': ObjectId('63d7dba343737eb5fa87bfb7'), 'Adı': 'Buse', 'Ortalama': 72}\n",
      "{'_id': ObjectId('63d7dba343737eb5fa87bfb8'), 'Adı': 'Orhan', 'Ortalama': 50}\n",
      "{'_id': ObjectId('63d7dba343737eb5fa87bfb9'), 'Adı': 'Kerim', 'Ortalama': 65}\n",
      "{'_id': ObjectId('63d7dba343737eb5fa87bfba'), 'Adı': 'Mustafa', 'Ortalama': 50}\n",
      "{'_id': ObjectId('63d7dba343737eb5fa87bfbb'), 'Adı': 'Şule', 'Ortalama': 75}\n",
      "{'_id': ObjectId('63d7dba343737eb5fa87bfbc'), 'Adı': 'Baran', 'Ortalama': 91}\n",
      "{'_id': ObjectId('63d7dba343737eb5fa87bfbd'), 'Adı': 'Kaan', 'Ortalama': 74}\n",
      "{'_id': ObjectId('63d7dba343737eb5fa87bfbe'), 'Adı': 'Osman', 'Ortalama': 62}\n",
      "{'_id': ObjectId('63d7dba343737eb5fa87bfbf'), 'Adı': 'Banu', 'Ortalama': 100}\n",
      "{'_id': ObjectId('63d7dba343737eb5fa87bfc0'), 'Adı': 'Burhan', 'Ortalama': 50}\n",
      "{'_id': ObjectId('63d7dba343737eb5fa87bfc1'), 'Adı': 'Oğuz', 'Ortalama': 63}\n",
      "{'_id': ObjectId('63d7dba343737eb5fa87bfc2'), 'Adı': 'Ali', 'Ortalama': 75}\n"
     ]
    }
   ],
   "source": [
    "# HEPSİ\n",
    "for x in mydb.find():\n",
    "    print(x)\n"
   ]
  },
  {
   "cell_type": "code",
   "execution_count": 45,
   "id": "d536a7f2",
   "metadata": {},
   "outputs": [
    {
     "name": "stdout",
     "output_type": "stream",
     "text": [
      "{'_id': ObjectId('63d7dba343737eb5fa87bfb3'), 'Adı': 'Ali', 'Ortalama': 63}\n",
      "{'_id': ObjectId('63d7dba343737eb5fa87bfb4'), 'Adı': 'Ayşe', 'Ortalama': 82}\n",
      "{'_id': ObjectId('63d7dba343737eb5fa87bfb5'), 'Adı': 'Mehmet', 'Ortalama': 50}\n",
      "{'_id': ObjectId('63d7dba343737eb5fa87bfb6'), 'Adı': 'Duygu', 'Ortalama': 50}\n",
      "{'_id': ObjectId('63d7dba343737eb5fa87bfb7'), 'Adı': 'Buse', 'Ortalama': 72}\n"
     ]
    }
   ],
   "source": [
    "# ilk 5 i \n",
    "for x in mydb.find().limit(5):\n",
    "    print(x)"
   ]
  },
  {
   "cell_type": "code",
   "execution_count": null,
   "id": "c24a26b7",
   "metadata": {},
   "outputs": [],
   "source": [
    "################################################"
   ]
  },
  {
   "cell_type": "code",
   "execution_count": null,
   "id": "ea89c91c",
   "metadata": {},
   "outputs": [],
   "source": [
    "################################################"
   ]
  },
  {
   "cell_type": "code",
   "execution_count": 46,
   "id": "0915cbfd",
   "metadata": {},
   "outputs": [],
   "source": [
    "# Delete Sorguları\n"
   ]
  },
  {
   "cell_type": "code",
   "execution_count": null,
   "id": "f513fc54",
   "metadata": {},
   "outputs": [],
   "source": [
    "# delete_one()"
   ]
  },
  {
   "cell_type": "code",
   "execution_count": 50,
   "id": "372a270d",
   "metadata": {},
   "outputs": [
    {
     "name": "stdout",
     "output_type": "stream",
     "text": [
      "{'_id': ObjectId('63d7dba343737eb5fa87bfb4'), 'Adı': 'Ayşe', 'Ortalama': 82}\n"
     ]
    }
   ],
   "source": [
    "#İsmi ayşe olan biri var mı diye kontrol ediyoruz\n",
    "for x in mydb.find({\"Adı\":\"Ayşe\"}):\n",
    "    print(x)"
   ]
  },
  {
   "cell_type": "code",
   "execution_count": 51,
   "id": "701f9eb3",
   "metadata": {},
   "outputs": [
    {
     "data": {
      "text/plain": [
       "<pymongo.results.DeleteResult at 0x7f23655ced70>"
      ]
     },
     "execution_count": 51,
     "metadata": {},
     "output_type": "execute_result"
    }
   ],
   "source": [
    "myquery = {\"Adı\":\"Ayşe\"}\n",
    "mydb.delete_one(myquery)"
   ]
  },
  {
   "cell_type": "code",
   "execution_count": 53,
   "id": "d3859c49",
   "metadata": {},
   "outputs": [],
   "source": [
    "# Kontrol edelim.\n",
    "mydb.find_one({\"Adı\":\"Ayşe\"})"
   ]
  },
  {
   "cell_type": "code",
   "execution_count": 54,
   "id": "37d3356b",
   "metadata": {},
   "outputs": [],
   "source": [
    "# delete_many()"
   ]
  },
  {
   "cell_type": "code",
   "execution_count": 55,
   "id": "dda2ec17",
   "metadata": {},
   "outputs": [
    {
     "name": "stdout",
     "output_type": "stream",
     "text": [
      "{'Adı': 'Mehmet', 'Ortalama': 50}\n",
      "{'Adı': 'Duygu', 'Ortalama': 50}\n",
      "{'Adı': 'Orhan', 'Ortalama': 50}\n",
      "{'Adı': 'Mustafa', 'Ortalama': 50}\n",
      "{'Adı': 'Burhan', 'Ortalama': 50}\n"
     ]
    }
   ],
   "source": [
    "# NOTU 50 OLANLARI SİLİYORUZ.ÖNCE KONTROL EDELİM\n",
    "for x in mydb.find({\"Ortalama\":50},{\"_id\":0}):\n",
    "    print(x)"
   ]
  },
  {
   "cell_type": "code",
   "execution_count": 56,
   "id": "67d6c7fb",
   "metadata": {},
   "outputs": [],
   "source": [
    "myquery = {\"Ortalama\":50}"
   ]
  },
  {
   "cell_type": "code",
   "execution_count": 57,
   "id": "f83d9199",
   "metadata": {},
   "outputs": [
    {
     "data": {
      "text/plain": [
       "<pymongo.results.DeleteResult at 0x7f23655ce800>"
      ]
     },
     "execution_count": 57,
     "metadata": {},
     "output_type": "execute_result"
    }
   ],
   "source": [
    "mydb.delete_many(myquery)"
   ]
  },
  {
   "cell_type": "code",
   "execution_count": 58,
   "id": "d7f0c639",
   "metadata": {},
   "outputs": [],
   "source": [
    "# Tekrar kontrol edelim\n",
    "for x in mydb.find({\"Ortalama\":50},{\"_id\":0}):\n",
    "    print(x)"
   ]
  },
  {
   "cell_type": "code",
   "execution_count": null,
   "id": "9e3d3d11",
   "metadata": {},
   "outputs": [],
   "source": [
    "# NONE"
   ]
  }
 ],
 "metadata": {
  "kernelspec": {
   "display_name": "Python 3 (ipykernel)",
   "language": "python",
   "name": "python3"
  },
  "language_info": {
   "codemirror_mode": {
    "name": "ipython",
    "version": 3
   },
   "file_extension": ".py",
   "mimetype": "text/x-python",
   "name": "python",
   "nbconvert_exporter": "python",
   "pygments_lexer": "ipython3",
   "version": "3.10.6"
  }
 },
 "nbformat": 4,
 "nbformat_minor": 5
}
